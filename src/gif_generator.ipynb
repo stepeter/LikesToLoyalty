{
 "cells": [
  {
   "cell_type": "code",
   "execution_count": 18,
   "metadata": {},
   "outputs": [],
   "source": [
    "import pandas as pd\n",
    "import matplotlib.pyplot as plt\n",
    "import imageio\n",
    "import os\n"
   ]
  },
  {
   "cell_type": "code",
   "execution_count": 33,
   "metadata": {},
   "outputs": [
    {
     "name": "stderr",
     "output_type": "stream",
     "text": [
      "/var/folders/n0/7l1_05910y303wy7z45_m3kr0000gn/T/ipykernel_50093/154633929.py:4: UserWarning: Converting to PeriodArray/Index representation will drop timezone information.\n",
      "  df['date_bin'] = df['created_at'].dt.to_period(\"W\").astype(str)  # Weekly aggregation\n",
      "/var/folders/n0/7l1_05910y303wy7z45_m3kr0000gn/T/ipykernel_50093/154633929.py:45: DeprecationWarning: Starting with ImageIO v3 the behavior of this function will switch to that of iio.v3.imread. To keep the current behavior (and make this warning disappear) use `import imageio.v2 as imageio` or call `imageio.v2.imread` directly.\n",
      "  image = imageio.imread(filename)\n"
     ]
    },
    {
     "name": "stdout",
     "output_type": "stream",
     "text": [
      "Funnel GIF created at assets/funnel_gif.gif\n"
     ]
    }
   ],
   "source": [
    "# Load processed data\n",
    "df = pd.read_csv(\"../data/processed/labeled_posts.csv\")\n",
    "df['created_at'] = pd.to_datetime(df['created_at'], format='mixed', utc=True)\n",
    "df['date_bin'] = df['created_at'].dt.to_period(\"W\").astype(str)  # Weekly aggregation\n",
    "\n",
    "# Funnel stages & colors\n",
    "funnel_stages = ['Awareness', 'Interest', 'Trust', 'Advocacy', 'Drop-Off']\n",
    "colors = {\n",
    "    'Awareness': '#1f77b4',\n",
    "    'Interest': '#ff7f0e',\n",
    "    'Trust': '#2ca02c',\n",
    "    'Advocacy': '#9467bd',\n",
    "    'Drop-Off': '#d62728'\n",
    "}\n",
    "\n",
    "# Aggregate stage counts per week\n",
    "grouped = df.groupby(['date_bin', 'funnel_stage']).size().unstack()\n",
    "grouped = grouped.reindex(columns=colors.keys(), fill_value=0)\n",
    "frames_dir = \"../assets/frames\"\n",
    "os.makedirs(frames_dir, exist_ok=True)\n",
    "\n",
    "# Create chart frames\n",
    "ymax = grouped.sum().max()  # keep y-axis consistent\n",
    "filenames = []\n",
    "for i, date in enumerate(grouped.index):\n",
    "    counts = grouped.iloc[:i+1].sum()\n",
    "    plt.figure(figsize=(10, 6))\n",
    "    plt.bar(funnel_stages, counts[funnel_stages], color=[colors[s] for s in funnel_stages])\n",
    "    plt.grid(True, linestyle='--', alpha=0.7)\n",
    "    plt.gca().spines['right'].set_visible(False)\n",
    "    plt.gca().spines['top'].set_visible(False)\n",
    "    plt.title(f\"Sentiment Funnel Progression – Week Ending {date}\", fontsize=14)\n",
    "    plt.xlabel(\"Funnel Stage\")\n",
    "    plt.ylabel(\"Message Count\")\n",
    "    plt.ylim(top=ymax)\n",
    "    plt.tight_layout()\n",
    "    filepath = f\"{frames_dir}/frame_{i}.png\"\n",
    "    plt.savefig(filepath)\n",
    "    filenames.append(filepath)\n",
    "    plt.close()\n",
    "\n",
    "# Build GIF\n",
    "with imageio.get_writer(\"../assets/funnel_gif.gif\", mode='I', duration=0.5) as writer:\n",
    "    for filename in filenames:\n",
    "        image = imageio.imread(filename)\n",
    "        writer.append_data(image)\n",
    "\n",
    "print(\"Funnel GIF created at assets/funnel_gif.gif\")"
   ]
  },
  {
   "cell_type": "code",
   "execution_count": null,
   "metadata": {},
   "outputs": [],
   "source": []
  }
 ],
 "metadata": {
  "kernelspec": {
   "display_name": "Python (LikesToLoyalty)",
   "language": "python",
   "name": "likestoloyalty"
  },
  "language_info": {
   "codemirror_mode": {
    "name": "ipython",
    "version": 3
   },
   "file_extension": ".py",
   "mimetype": "text/x-python",
   "name": "python",
   "nbconvert_exporter": "python",
   "pygments_lexer": "ipython3",
   "version": "3.12.11"
  }
 },
 "nbformat": 4,
 "nbformat_minor": 4
}
