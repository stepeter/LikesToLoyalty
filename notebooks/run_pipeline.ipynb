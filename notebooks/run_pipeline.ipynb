{
 "cells": [
  {
   "cell_type": "markdown",
   "metadata": {},
   "source": [
    "# Full analysis pipeline"
   ]
  },
  {
   "cell_type": "markdown",
   "metadata": {},
   "source": [
    "## Scrape post data from Bluesky API"
   ]
  },
  {
   "cell_type": "code",
   "execution_count": 1,
   "metadata": {},
   "outputs": [
    {
     "name": "stdout",
     "output_type": "stream",
     "text": [
      "Saved 161 posts!\n"
     ]
    }
   ],
   "source": [
    "import sys\n",
    "sys.path.append(\"..\")\n",
    "\n",
    "from src.scrape import ScrapeBluesky\n",
    "\n",
    "query = '\"trekking poles\"'\n",
    "n_posts_requested = 1000\n",
    "stream = False\n",
    "\n",
    "sb = ScrapeBluesky(n_posts_requested,\n",
    "                   datarootpath = \"../data\",\n",
    "                   auth_fid = \"../auth.json\")\n",
    "if stream:\n",
    "    df, savefid_scrape = sb.scrape(query, stream = stream)\n",
    "else:\n",
    "    savefid_scrape = sb.scrape(query)\n"
   ]
  },
  {
   "cell_type": "markdown",
   "metadata": {},
   "source": [
    "## Use ML model to predict user sentiment for each post"
   ]
  },
  {
   "cell_type": "markdown",
   "metadata": {},
   "source": [
    "Default ML model is GoEmotions roBERTa"
   ]
  },
  {
   "cell_type": "code",
   "execution_count": 2,
   "metadata": {},
   "outputs": [
    {
     "name": "stderr",
     "output_type": "stream",
     "text": [
      "/Users/stepeter/anaconda3/envs/LikesToLoyalty/lib/python3.12/site-packages/tqdm/auto.py:21: TqdmWarning: IProgress not found. Please update jupyter and ipywidgets. See https://ipywidgets.readthedocs.io/en/stable/user_install.html\n",
      "  from .autonotebook import tqdm as notebook_tqdm\n",
      "Device set to use cpu\n"
     ]
    },
    {
     "name": "stdout",
     "output_type": "stream",
     "text": [
      "Funnel stages assigned and saved.\n"
     ]
    }
   ],
   "source": [
    "from src.posts_to_sentiment import PostsToSentiment\n",
    "\n",
    "ps = PostsToSentiment(savefid_scrape, query = query,\n",
    "                      stream = stream, suppress_neutral = True,\n",
    "                      datarootpath = \"../data\")\n",
    "if stream:\n",
    "    df, savefid_predict = ps.predict_sentiment(df = df)\n",
    "else:\n",
    "    savefid_predict = ps.predict_sentiment()\n"
   ]
  },
  {
   "cell_type": "code",
   "execution_count": null,
   "metadata": {},
   "outputs": [],
   "source": []
  }
 ],
 "metadata": {
  "kernelspec": {
   "display_name": "Python (LikesToLoyalty)",
   "language": "python",
   "name": "likestoloyalty"
  },
  "language_info": {
   "codemirror_mode": {
    "name": "ipython",
    "version": 3
   },
   "file_extension": ".py",
   "mimetype": "text/x-python",
   "name": "python",
   "nbconvert_exporter": "python",
   "pygments_lexer": "ipython3",
   "version": "3.12.11"
  }
 },
 "nbformat": 4,
 "nbformat_minor": 4
}
